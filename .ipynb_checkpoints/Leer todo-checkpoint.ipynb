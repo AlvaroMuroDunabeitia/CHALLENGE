{
 "cells": [
  {
   "cell_type": "code",
   "execution_count": 1,
   "metadata": {},
   "outputs": [],
   "source": [
    "#Instalamos las librerias\n",
    "\n",
    "import pandas as pd\n",
    "import numpy as np\n",
    "import matplotlib.pyplot as plt\n",
    "import regex as re\n",
    "import io\n"
   ]
  },
  {
   "cell_type": "code",
   "execution_count": 57,
   "metadata": {
    "tags": []
   },
   "outputs": [
    {
     "name": "stdout",
     "output_type": "stream",
     "text": [
      "['13/10/2020', '23/10/2020']\n",
      "[]\n",
      "['13/02/2018', '13/03/2018']\n",
      "['07/01/2010']\n",
      "['10/01/2017', '11 ENE. 2017']\n",
      "['16-ENE-17', '16/3/2016']\n",
      "['13 ENE. 2017']\n",
      "['17/01/2017']\n",
      "['02/01/2017', '30/01/2017']\n",
      "['29/01/2019', '29/01/2019']\n",
      "['29/01/2019', '29/01/2019']\n",
      "['20/01/2020', '18/02/2020', '19 DE FEBRERO DE 2020', '27/02/2020']\n",
      "['18/02/2020', '17/03/2020', '18 DE MARZO DE 2020', '26/03/2020']\n",
      "['31/01/2020', '29/02/2020']\n",
      "['31/01/2020', '01/01/2020', '31/01/2020', '02/01/2020', '13/01/2020']\n",
      "['02/03/2020', '02/03/2020']\n",
      "['04/01/2020', '04/01/2020']\n",
      "['31/01/2020', '31/01/2020']\n",
      "['28/02/2020', '28/02/2020']\n",
      "['31/03/2020', '31/03/2020']\n",
      "[]\n"
     ]
    }
   ],
   "source": [
    "\n",
    "#Apuntamos nombres facturas en una lista\n",
    "\n",
    "facturas = [\"5ffe46bfc08b4.txt\",\"12OCR (1).txt\",\"codigoqr.txt\",\"factura-luz.txt\",\"IVALINEAS1 (1).txt\",\n",
    "            \"IVALINEAS2 (1).txt\",\"IVALINEAS3 (1).txt\",\"IVANORMAL2 (1).txt\",\"IVANORMAL3 (1).txt\",\"modelo-factura-es-clasico-blanco-750px.txt\",\n",
    "            \"modelo-factura-es-puro-750px.txt\",\"prueba 1_1.txt\",\"prueba 1_2.txt\",\"prueba 1_3.txt\",\"prueba 1_4.txt\",\n",
    "            \"prueba 1_5.txt\",\"prueba 1_6.txt\",\"prueba 1_9.txt\",\"prueba 1_10.txt\",\"prueba 1_11.txt\",\"ticket.txt\"]\n",
    "\n",
    "#Guardamos el directorio de donde se encuentran\n",
    "\n",
    "filepath = \"./facturas/\"\n",
    "\n",
    "#Elegimos factura que queramos pero se hará un bucle para generar el dataframe\n",
    "\n",
    "\n",
    "i = 0\n",
    "#Guardamos el nombre que nos interesa en nombrefacturas\n",
    "for i in [0,1,2,3,4,5,6,7,8,9,10,11,12,13,14,15,16,17,18,19,20]:\n",
    "    \n",
    "    nombrefactura = facturas[i]\n",
    "\n",
    "#Abrimos el .txt correspondiente a nombre factura en formato ascii\n",
    "\n",
    "    factura = io.open(filepath+nombrefactura,\"r\", encoding='utf-8')        \n",
    "\n",
    "#Guardamos el .txt leido en leer_factura, input principal de las funciones de regular expression\n",
    "\n",
    "    leer_factura = factura.read()\n",
    "\n",
    "    #buscarnombreempresa(leer_factura)\n",
    "    #buscarnif(leer_factura)\n",
    "    buscarfechas(leer_factura)\n",
    "\n",
    "#Visualizamos la factura para ver que buscar pero en el bucle no será necesario\n",
    "\n",
    "#print(leer_factura)\n",
    "\n",
    "#Cerramos el archivo .txt inicial por si modificamos datos sin querer\n",
    "\n",
    "factura.close()\n",
    "\n",
    "\n"
   ]
  },
  {
   "cell_type": "code",
   "execution_count": 56,
   "metadata": {},
   "outputs": [],
   "source": [
    "###FUNCIONES###\n",
    "\n",
    "\n",
    "#Buscar fecha\n",
    "def buscarfechas(leer_factura):         \n",
    "\n",
    "    #Fecha mm-dd-aaaa (hay que hacer para todas las configuraciones y tambien fechas escritas con letras no solo números)\n",
    "    leer_factura2 = re.sub(r'\\n', '',leer_factura)\n",
    "    leer_factura_upper = leer_factura2.upper()\n",
    "    xfecha=re.findall(\"((?:(?:0?[1-9]|1[0-9]|2[0-9]|3[0-1])(?:\\/|-|\\s)(?:0?[1-9]|1[0-2])(?:\\/|-|\\s)(?:201[0-9]|202[0-1]))|(?:(?:0?[1-9]|1[0-9]|2[0-9]|3[0-1])(?:\\/|-|\\s)(?:DE)?(?:\\/|-|\\s)?(?:ENE\\.?|ENERO|FEB\\.?|FEBRERO|MAR\\.?|MARZO|ABR\\.?|ABRIL|MAYO\\.?|MAY|JUNIO\\.?|JUN|JULIO\\.?|JUL|AGOSTO\\.?|AGO|SEPTIEMBRE\\.?|SEP|OCTUBRE\\.?|OCT|NOVIEMBRE\\.?|NOV|DICIEMBRE\\?.|DIC)(?:\\/|-|\\s)?(?:DE)?(?:\\/|-|\\s)(?:(?:20)?1[0-9]|(?:20)?2[0-1])))\",leer_factura_upper)\n",
    "    return print(xfecha)\n",
    "\n",
    "\n",
    "\n",
    "\n",
    "#Buscar nombre empresa\n",
    "def buscarnombreempresa(leer_factura): \n",
    "   \n",
    "    xnombreempresa=re.findall(\n",
    "        \"(?:Remite.\\s|Remite:\\s|Entidad:\\s)?([A-Z][a-z]^\\s|\\n?.+OASIS|[A-Z].*,?\\s?(?:S\\.L\\.|[^a-z-A-Z^\\n?]SL|S\\.L|C\\.B|Inc\\.|[^a-z-A-Z^\\n]SAU|S\\.A\\.U\\.|S\\.A\\.U|S\\.A\\.|[^a-z-A-Z^\\.^\\n?]SA(?:\\n)|S\\.A))\",leer_factura)\n",
    "    return print(xnombreempresa)\n",
    "\n",
    "\n",
    "\n",
    "\n",
    "\n",
    "#Buscar Numero Factura\n",
    "def buscarnumerofactura(leer_factura):          \n",
    "\n",
    "    a = 1\n",
    "\n",
    "\n",
    "#Buscar NIF/CIF\n",
    "def buscarnif(leer_factura):        \n",
    "\n",
    "    xnif=re.findall(\"\\s(?:ES)?(\\d{8}[\\s-]?[A-Z]|\\d{10}[\\s-]?[A-Z]|[A-Z][\\s-]?\\d{8}|[A-Z][\\s-]?\\d{10})\\s\",leer_factura)\n",
    "    return print(xnif)\n",
    "\n",
    "#Buscar Dinero base\n",
    "def buscarbase(leer_factura):               \n",
    "\n",
    "    b = 1\n",
    "\n",
    "#Buscar IVA\n",
    "def buscariva(leer_factura):   \n",
    "\n",
    "    #IVA En el IVA solamente queremos coger el número que acompaña a la palabra IVA.Por lo tanto, esta expresión te convierte\n",
    "    #en dos grupos, hay que comprobar si realmente se queda con el grupo 2, que es el porcentaje de IVA.\n",
    "    xiva=re.findall(\"[IVA|iva|Iva]?[^\\n\\s]?(\\d*)?(\\s|,|.)(\\d+)?(\\s)?(%)\",leer_factura)\n",
    "    return print(xiva)\n",
    "\n",
    "\n",
    "#Buscar Importe total\n",
    "def buscarimportetotal(leer_factura):           \n",
    "\n",
    "    c = 1\n",
    "\n",
    "\n",
    "\n",
    "#Generar el dataframe con todo\n",
    "def generardataframe(nombrefactura,leer_factura):                    \n",
    "\n",
    "    lista = [nombrefactura,buscarfechas(leer_factura),...]            #Guardar todos los datos de una factura en una lista\n",
    "    dataframe = pd.DataFrame(lista,\n",
    "                             columns = ['Nombre factura','Numero factura','Nombre empresa',\n",
    "                                        'NIF/CIF','Fecha','Importe base','IVA','Importe total'])\n",
    "\n",
    "\n",
    "\n"
   ]
  },
  {
   "cell_type": "code",
   "execution_count": 1,
   "metadata": {},
   "outputs": [
    {
     "ename": "NameError",
     "evalue": "name 'generardataframe' is not defined",
     "output_type": "error",
     "traceback": [
      "\u001b[1;31m---------------------------------------------------------------------------\u001b[0m",
      "\u001b[1;31mNameError\u001b[0m                                 Traceback (most recent call last)",
      "\u001b[1;32m<ipython-input-1-a9489dfa0835>\u001b[0m in \u001b[0;36m<module>\u001b[1;34m\u001b[0m\n\u001b[1;32m----> 1\u001b[1;33m \u001b[0mgenerardataframe\u001b[0m\u001b[1;33m(\u001b[0m\u001b[0mnombrefactura\u001b[0m\u001b[1;33m,\u001b[0m\u001b[0mleer_factura\u001b[0m\u001b[1;33m)\u001b[0m\u001b[1;33m\u001b[0m\u001b[1;33m\u001b[0m\u001b[0m\n\u001b[0m",
      "\u001b[1;31mNameError\u001b[0m: name 'generardataframe' is not defined"
     ]
    }
   ],
   "source": [
    "generardataframe(nombrefactura,leer_factura)"
   ]
  },
  {
   "cell_type": "code",
   "execution_count": 5,
   "metadata": {},
   "outputs": [
    {
     "name": "stdout",
     "output_type": "stream",
     "text": [
      "['EMPRESA DESARROLLO OASIS', '6\\nNO SOMOS GRANDES CONTRIBUYENTES\\nSOMOS AUTORRETENEDORES RESOLUSOLU', '8\\nCONTRIBUYENTES RESOLUSOLU', '8-GUSASA']\n"
     ]
    }
   ],
   "source": [
    "#buscarfechas(leer_factura)\n",
    "buscarnombreempresa(leer_factura)\n",
    "#buscariva(leer_factura)\n",
    "#buscarnif(leer_factura)"
   ]
  },
  {
   "cell_type": "code",
   "execution_count": null,
   "metadata": {},
   "outputs": [],
   "source": []
  }
 ],
 "metadata": {
  "kernelspec": {
   "display_name": "Python 3",
   "language": "python",
   "name": "python3"
  },
  "language_info": {
   "codemirror_mode": {
    "name": "ipython",
    "version": 3
   },
   "file_extension": ".py",
   "mimetype": "text/x-python",
   "name": "python",
   "nbconvert_exporter": "python",
   "pygments_lexer": "ipython3",
   "version": "3.8.5"
  },
  "metadata": {
   "interpreter": {
    "hash": "0f2bbd419dfdaa86ab0988cd66e07ab8fc135ed5cc75cf6f6be33f890a159408"
   }
  }
 },
 "nbformat": 4,
 "nbformat_minor": 5
}
