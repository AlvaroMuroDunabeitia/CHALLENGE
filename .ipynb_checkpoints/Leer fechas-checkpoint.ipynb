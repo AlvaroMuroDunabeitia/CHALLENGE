{
 "cells": [
  {
   "cell_type": "code",
   "execution_count": 3,
   "metadata": {},
   "outputs": [],
   "source": [
    "#Instalamos las librerias\n",
    "\n",
    "import pandas as pd\n",
    "import numpy as np\n",
    "import matplotlib.pyplot as plt\n",
    "import regex as re\n",
    "import io"
   ]
  },
  {
   "cell_type": "code",
   "execution_count": 4,
   "metadata": {},
   "outputs": [
    {
     "name": "stdout",
     "output_type": "stream",
     "text": [
      "holded\n",
      "Holded SA\n",
      "Joan de Borbó, 101\n",
      "Barcelona (08001), Barcelona, España\n",
      "XXXXXXXXX\n",
      "aldo.solanas@holded.com\n",
      "932 710 167\n",
      "Holded Technologies\n",
      "XXXXXXXXXX\n",
      "932 710 167\n",
      "FACTURA SIMPLIFICADA #T190030\n",
      "Fecha 09/25/2019\n",
      "CONCEPTO\n",
      "PRECIO\n",
      "UNIDADES\n",
      "SUBTOTAL\n",
      "IVA\n",
      "TOTAL\n",
      "Gafas sol\n",
      "90,000€\n",
      "1 Unidades\n",
      "90,000€\n",
      "21%\n",
      "Warfare\n",
      "108,900€\n",
      "VANS bambas\n",
      "70,000€\n",
      "1 Unidades\n",
      "70,000€\n",
      "21%\n",
      "bamba de color negro old school\n",
      "84,700€\n",
      "beanie\n",
      "Talla M\n",
      "25,000€\n",
      "1 Unidades\n",
      "25,000€\n",
      "21%\n",
      "30,250€\n",
      "tabla de surf\n",
      "356,000€\n",
      "1 Unidades\n",
      "356,000€\n",
      "21%\n",
      "Modelo 6.3\n",
      "430,760€\n",
      "camiseta nike\n",
      "22,000€\n",
      "1 Unidades\n",
      "22,000€\n",
      "21%\n",
      "26,620€\n",
      "Negra L\n",
      "camiseta nike\n",
      "Blanca XL\n",
      "22,000€\n",
      "1 Unidades\n",
      "22,000€\n",
      "21%\n",
      "26,620€\n",
      "Guantes\n",
      "Piel reforzada / negro\n",
      "12,000€\n",
      "1 Unidades\n",
      "12,000€\n",
      "21%\n",
      "14,520€\n",
      "BASE IMPONIBLE\n",
      "597,00€\n",
      "IVA 21%\n",
      "125,370€\n",
      "TOTAL\n",
      "722,37€\n",
      "Pagar por transferencia a IBAN:\n",
      "ES66210064184012345679\n",
      "1/1\n"
     ]
    }
   ],
   "source": [
    "\n",
    "#Apuntamos nombres facturas en una lista\n",
    "\n",
    "facturas = [\"5ffe46bfc08b4.txt\",\"12OCR (1).txt\",\"codigoqr.txt\",\"factura-luz.txt\",\"IVALINEAS1 (1).txt\",\n",
    "            \"IVALINEAS2 (1).txt\",\"IVALINEAS3 (1).txt\",\"IVANORMAL2 (1).txt\",\"modelo-factura-es-clasico-blanco-750px.txt\",\n",
    "            \"modelo-factura-es-puro-750px.txt\",\"prueba 1_1.txt\",\"prueba 1_2.txt\",\"prueba 1_3.txt\",\"prueba 1_4.txt\",\n",
    "            \"prueba 1_5.txt\",\"prueba 1_6.txt\",\"prueba 1_9.txt\",\"prueba 1_10.txt\",\"prueba 1_11.txt\",\"ticket.txt\"]\n",
    "\n",
    "#Guardamos el directorio de donde se encuentran\n",
    "\n",
    "filepath = \"./facturas/\"\n",
    "\n",
    "#Elegimos factura que queramos pero se hará un bucle para generar el dataframe\n",
    "\n",
    "i = 19\n",
    "\n",
    "#Guardamos el nombre que nos interesa en nombrefacturas\n",
    "\n",
    "nombrefactura = facturas[i]\n",
    "\n",
    "#Abrimos el .txt correspondiente a nombre factura en formato ascii\n",
    "\n",
    "factura = io.open(filepath+nombrefactura,\"r\", encoding='utf-8')        \n",
    "\n",
    "#Guardamos el .txt leido en leer_factura, input principal de las funciones de regular expression\n",
    "\n",
    "leer_factura = factura.read()\n",
    "\n",
    "#Visualizamos la factura para ver que buscar pero en el bucle no será necesario\n",
    "\n",
    "print(leer_factura)\n",
    "\n",
    "#Cerramos el archivo .txt inicial por si modificamos datos sin querer\n",
    "\n",
    "factura.close()\n"
   ]
  },
  {
   "cell_type": "code",
   "execution_count": 5,
   "metadata": {},
   "outputs": [],
   "source": [
    "###FUNCIONES###\n",
    "\n",
    "def buscarfechas(leer_factura):         #Buscar fecha\n",
    "\n",
    "    #Fecha mm-dd-aaaa (hay que hacer para todas las configuraciones y tambien fechas escritas con letras no solo números)\n",
    "    xfecha=re.findall(\"(0?[1-9]|1[1-2])(\\/|-|\\s)(0?[1-9]|1[0-9]|2[0-9]|3[0-1])(\\/|-|\\s)(1?9?[0-9][0-9]|2?0?[0-9][0-9])\",\n",
    "                      leer_factura)\n",
    "    listafechas = []\n",
    "    for i in x:\n",
    "            fecha=''.join(i)\n",
    "            listafechas.append(fecha)\n",
    "\n",
    "\n",
    "#Si hay fecha o no\n",
    "\n",
    "    if len(listafechas) == 0:\n",
    "        return \"No hay fecha\"\n",
    "    else:\n",
    "        return print(listafechas)\n",
    "\n",
    "\n",
    "\n",
    "#def buscarnombreempresa(leer_factura): \n",
    "    \n",
    "    #Nombre empresa (Hay que coger todo el nombre de la empresa incluidas las sociedades (SA, SL...). Además, si el nombre\n",
    "    #de la empresa contiene tildes, mayúsculas, minúsculas este código también las lee.)\n",
    "    \n",
    "    #xnombreempresa=re.findall(\"(.*)(\\s|\\.|\\/)(S.L.|SL|SA|S.A.|C.B.|Inc|S.A.U.|)\",leer_factura)\n",
    "\n",
    "\n",
    "#def buscarnumerofactura(leer_factura):          #Buscar Numero Factura\n",
    "\n",
    "\n",
    "\n",
    "#def buscarnif(leer_factura):        #Buscar NIF/CIF\n",
    "\n",
    "\n",
    "\n",
    "#def buscarbase(leer_factura):               #Buscar Dinero base\n",
    "\n",
    "\n",
    "\n",
    "#def buscariva(leer_factura):   \n",
    "\n",
    "    #IVA En el IVA solamente queremos coger el número que acompaña a la palabra IVA.Por lo tanto, esta expresión te convierte\n",
    "    #en dos grupos, hay que comprobar si realmente se queda con el grupo 2, que es el porcentaje de IVA.\n",
    "    #xIva=re.findall(\"(\\w+ (\\d+))\",leer_factura)\n",
    "\n",
    "\n",
    "#def buscarimportetotal(leer_factura):           #Buscar Importe total\n",
    "\n",
    "\n",
    "\n",
    "def generardataframe(nombrefactura,leer_factura):                    #Generar el dataframe con todo\n",
    "\n",
    "    lista = [nombrefactura,buscarfechas(leer_factura),...]            #Guardar todos los datos de una factura en una lista\n",
    "    dataframe = pd.DataFrame(lista,\n",
    "                             columns = ['Nombre factura','Numero factura','Nombre empresa',\n",
    "                                        'NIF/CIF','Fecha','Importe base','IVA','Importe total'])\n"
   ]
  },
  {
   "cell_type": "code",
   "execution_count": 22,
   "metadata": {},
   "outputs": [
    {
     "name": "stdout",
     "output_type": "stream",
     "text": [
      "['09/25/20']\n"
     ]
    }
   ],
   "source": [
    "generardataframe(nombrefactura,leer_factura)"
   ]
  },
  {
   "cell_type": "code",
   "execution_count": 6,
   "metadata": {},
   "outputs": [
    {
     "name": "stdout",
     "output_type": "stream",
     "text": [
      "['09/25/20']\n"
     ]
    }
   ],
   "source": [
    "buscarfechas(leer_factura)"
   ]
  },
  {
   "cell_type": "code",
   "execution_count": null,
   "metadata": {},
   "outputs": [],
   "source": []
  }
 ],
 "metadata": {
  "kernelspec": {
   "display_name": "Python 3",
   "language": "python",
   "name": "python3"
  },
  "language_info": {
   "codemirror_mode": {
    "name": "ipython",
    "version": 3
   },
   "file_extension": ".py",
   "mimetype": "text/x-python",
   "name": "python",
   "nbconvert_exporter": "python",
   "pygments_lexer": "ipython3",
   "version": "3.8.5"
  },
  "metadata": {
   "interpreter": {
    "hash": "0f2bbd419dfdaa86ab0988cd66e07ab8fc135ed5cc75cf6f6be33f890a159408"
   }
  }
 },
 "nbformat": 4,
 "nbformat_minor": 5
}
