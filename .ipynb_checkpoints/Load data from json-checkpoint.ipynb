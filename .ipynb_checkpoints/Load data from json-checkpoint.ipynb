{
 "cells": [
  {
   "cell_type": "code",
   "execution_count": 1,
   "metadata": {},
   "outputs": [],
   "source": [
    "import json\n",
    "import re\n",
    "with open(\"./dict_wB.json\", 'r') as fp:\n",
    "    data = json. load(fp)"
   ]
  },
  {
   "cell_type": "code",
   "execution_count": 2,
   "metadata": {},
   "outputs": [
    {
     "data": {
      "text/plain": [
       "dict_keys(['12OCR (1)', '5ffe46bfc08b4', 'IVALINEAS1 (1)', 'IVALINEAS2 (1)', 'IVALINEAS3 (1)', 'IVANORMAL2 (1)', 'IVANORMAL3 (1)', 'codigoqr', 'factura-luz', 'modelo-factura-es-clasico-blanco-750px', 'modelo-factura-es-puro-750px', 'prueba 1_1', 'prueba 1_10', 'prueba 1_11', 'prueba 1_2', 'prueba 1_3', 'prueba 1_4', 'prueba 1_5', 'prueba 1_6', 'prueba 1_9', 'ticket'])"
      ]
     },
     "execution_count": 2,
     "metadata": {},
     "output_type": "execute_result"
    }
   ],
   "source": [
    "data.keys()\n"
   ]
  },
  {
   "cell_type": "code",
   "execution_count": 3,
   "metadata": {},
   "outputs": [
    {
     "name": "stdout",
     "output_type": "stream",
     "text": [
      "\n",
      "holded\n",
      "Holded SA\n",
      "Joan de Borbó, 101\n",
      "Barcelona (08001), Barcelona, España\n",
      "XXXXXXXXX\n",
      "aldo.solanas@holded.com\n",
      "932 710 167\n",
      "Holded Technologies\n",
      "XXXXXXXXXX\n",
      "932 710 167\n",
      "FACTURA SIMPLIFICADA #T190030\n",
      "Fecha 09/25/2019\n",
      "CONCEPTO\n",
      "PRECIO\n",
      "UNIDADES\n",
      "SUBTOTAL\n",
      "IVA\n",
      "TOTAL\n",
      "Gafas sol\n",
      "90,000€\n",
      "1 Unidades\n",
      "90,000€\n",
      "21%\n",
      "Warfare\n",
      "108,900€\n",
      "VANS bambas\n",
      "70,000€\n",
      "1 Unidades\n",
      "70,000€\n",
      "21%\n",
      "bamba de color negro old school\n",
      "84,700€\n",
      "beanie\n",
      "Talla M\n",
      "25,000€\n",
      "1 Unidades\n",
      "25,000€\n",
      "21%\n",
      "30,250€\n",
      "tabla de surf\n",
      "356,000€\n",
      "1 Unidades\n",
      "356,000€\n",
      "21%\n",
      "Modelo 6.3\n",
      "430,760€\n",
      "camiseta nike\n",
      "22,000€\n",
      "1 Unidades\n",
      "22,000€\n",
      "21%\n",
      "26,620€\n",
      "Negra L\n",
      "camiseta nike\n",
      "Blanca XL\n",
      "22,000€\n",
      "1 Unidades\n",
      "22,000€\n",
      "21%\n",
      "26,620€\n",
      "Guantes\n",
      "Piel reforzada / negro\n",
      "12,000€\n",
      "1 Unidades\n",
      "12,000€\n",
      "21%\n",
      "14,520€\n",
      "BASE IMPONIBLE\n",
      "597,00€\n",
      "IVA 21%\n",
      "125,370€\n",
      "TOTAL\n",
      "722,37€\n",
      "Pagar por transferencia a IBAN:\n",
      "ES66210064184012345679\n",
      "1/1\n"
     ]
    }
   ],
   "source": [
    "print(data[\"ticket\"])"
   ]
  },
  {
   "cell_type": "code",
   "execution_count": 19,
   "metadata": {},
   "outputs": [],
   "source": [
    "x = re.search(\"^(0?[1-9]|1[1-2])(/|-|\\s)(0?[1-9]|1[0-9]|2[0-9]|3[0-1])(/|-|\\s)(19[0-9][0-9]|20[0-9][0-9])$\",data[\"ticket\"])"
   ]
  },
  {
   "cell_type": "code",
   "execution_count": 20,
   "metadata": {},
   "outputs": [
    {
     "name": "stdout",
     "output_type": "stream",
     "text": [
      "None\n"
     ]
    }
   ],
   "source": [
    "print(x)"
   ]
  },
  {
   "cell_type": "code",
   "execution_count": 9,
   "metadata": {},
   "outputs": [
    {
     "ename": "TypeError",
     "evalue": "a bytes-like object is required, not 'str'",
     "output_type": "error",
     "traceback": [
      "\u001b[1;31m---------------------------------------------------------------------------\u001b[0m",
      "\u001b[1;31mTypeError\u001b[0m                                 Traceback (most recent call last)",
      "\u001b[1;32m<ipython-input-9-4d61c3a4f245>\u001b[0m in \u001b[0;36m<module>\u001b[1;34m\u001b[0m\n\u001b[0;32m      1\u001b[0m \u001b[0mf\u001b[0m \u001b[1;33m=\u001b[0m \u001b[0mopen\u001b[0m\u001b[1;33m(\u001b[0m\u001b[1;34m'12OCR (1)'\u001b[0m\u001b[1;33m,\u001b[0m\u001b[1;34m'wb'\u001b[0m\u001b[1;33m)\u001b[0m\u001b[1;33m\u001b[0m\u001b[1;33m\u001b[0m\u001b[0m\n\u001b[1;32m----> 2\u001b[1;33m \u001b[0mf\u001b[0m\u001b[1;33m.\u001b[0m\u001b[0mwrite\u001b[0m\u001b[1;33m(\u001b[0m\u001b[0mdata\u001b[0m\u001b[1;33m[\u001b[0m\u001b[1;34m\"12OCR (1)\"\u001b[0m\u001b[1;33m]\u001b[0m\u001b[1;33m)\u001b[0m\u001b[1;33m\u001b[0m\u001b[1;33m\u001b[0m\u001b[0m\n\u001b[0m",
      "\u001b[1;31mTypeError\u001b[0m: a bytes-like object is required, not 'str'"
     ]
    }
   ],
   "source": [
    "f = open('12OCR (1)','wb')\n",
    "f.write(data[\"12OCR (1)\"])"
   ]
  },
  {
   "cell_type": "code",
   "execution_count": null,
   "metadata": {},
   "outputs": [],
   "source": [
    "#usar regex101.com para las expresiones\n",
    "#registro lo ponemos nosotros"
   ]
  }
 ],
 "metadata": {
  "kernelspec": {
   "display_name": "Python 3",
   "language": "python",
   "name": "python3"
  },
  "language_info": {
   "codemirror_mode": {
    "name": "ipython",
    "version": 3
   },
   "file_extension": ".py",
   "mimetype": "text/x-python",
   "name": "python",
   "nbconvert_exporter": "python",
   "pygments_lexer": "ipython3",
   "version": "3.8.8"
  }
 },
 "nbformat": 4,
 "nbformat_minor": 2
}
